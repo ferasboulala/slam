{
 "cells": [
  {
   "cell_type": "code",
   "execution_count": 157,
   "metadata": {},
   "outputs": [],
   "source": [
    "import matplotlib.pyplot as plt\n",
    "import numpy as np\n",
    "\n",
    "import collections\n",
    "import math\n",
    "import random\n",
    "\n",
    "numpy.seterr('raise');\n",
    "EPSILON = 1e-7"
   ]
  },
  {
   "cell_type": "code",
   "execution_count": 81,
   "metadata": {},
   "outputs": [],
   "source": [
    "def prob_normal_distribution(a, b):\n",
    "    return 1/math.sqrt(2 * math.pi * b) * math.exp(-0.5 * a**2 / b)\n",
    "\n",
    "def prob_triangular_distribution(a, b):\n",
    "    return max(0, 1/math.sqrt(6) * b - abs(a) / 6 / b)\n",
    "\n",
    "def motion_model_velocity(x_t, u_t, x_, dt, prob, a_1, a_2, a_3, a_4, a_5, a_6):\n",
    "    '''\n",
    "    We evaluate the required input to bring x_ to x_t.\n",
    "    Then, we evaluate the error between the given input the the calculated input.\n",
    "    Assuming independence of the three movement errors, we compute the probability that we get these errors.\n",
    "    '''\n",
    "    x, y, theta = x_\n",
    "    x_, y_, theta_ = x_t\n",
    "    v, w = u_t\n",
    "    mu = 0.5 * ((x - x_) * math.cos(theta) + (y - y_) * math.sin(theta) + EPSILON) / ((y - y_) * math.cos(theta) - (x - x_) * math.sin(theta) + EPSILON)\n",
    "    x_star = (x + x_) / 2 + mu * (y - y_)\n",
    "    y_star = (y + y_) / 2 + mu * (x - x_)\n",
    "    r_star = math.sqrt((x - x_star)**2 + (y - y_star)**2)\n",
    "    delta_theta = math.atan2(y_ - y_star, x_ - x_star) - math.atan2(y - y_star, x - x_star)\n",
    "    v_ = delta_theta / dt * r_star\n",
    "    w_ = delta_theta / dt\n",
    "    # FIXME: Make sure the final angle lies in [-pi, pi]\n",
    "    gamma = (theta_ - theta) / dt - w_\n",
    "    \n",
    "    return prob(v - v_, a_1 * v**2 + a_2 * w**2) * prob(w - w_, a_3 * v**2 + a_4 * w**2) * prob(gamma, a_5 * v**2 + a_6 * w**2)\n",
    "\n",
    "def sample_normal_distribution(b):\n",
    "    return random.gauss(0, b)\n",
    "\n",
    "def sample_triangular_distribution(b):\n",
    "    return math.sqrt(6) / 2 * (random.uniform(-b, b) + random.uniform(-b, b))\n",
    "\n",
    "def sample_motion_model_velocity(u_t, x_, dt, sample, a_1, a_2, a_3, a_4, a_5, a_6):\n",
    "    '''\n",
    "    We evaluate one possible final state given an input.\n",
    "    Calling this function many times will result in different outputs.\n",
    "    This can be used in conjunction with particle filters.\n",
    "    '''\n",
    "    x, y, theta = x_\n",
    "    v, w = u_t\n",
    "    v_ = v + sample(a_1 * v**2 + a_2 * w**2)\n",
    "    w_ = w + sample(a_3 * v**2 + a_4 * w**2)\n",
    "    gamma = sample(a_5 * v**2 + a_6 * w**2)\n",
    "    x_ = x - v_ / w_ * math.sin(theta) + v_ / w_ * math.sin(theta + w_ * dt)\n",
    "    y_ = y + v_ / w_ * math.cos(theta) - v_ / w_ * math.cos(theta + w_ * dt)\n",
    "    theta_ = theta + w_ * dt + gamma * dt\n",
    "    \n",
    "    return np.array([x_, y_, theta_])"
   ]
  },
  {
   "cell_type": "code",
   "execution_count": 156,
   "metadata": {},
   "outputs": [
    {
     "data": {
      "image/png": "[encoded data removed]",
      "text/plain": [
       "<Figure size 576x576 with 1 Axes>"
      ]
     },
     "metadata": {},
     "output_type": "display_data"
    }
   ],
   "source": [
    "DT = 0.5\n",
    "N_POINTS = 200\n",
    "N_EPOCH = 10\n",
    "\n",
    "u = np.array([1, math.pi / 10])\n",
    "sample = sample_normal_distribution\n",
    "a_1, a_2, a_3, a_4, a_5, a_6 = 0.1, 0.1, 0.1, 0.1, 0.1, 0.1\n",
    "\n",
    "x_s = [0] * N_POINTS\n",
    "y_s = [0] * N_POINTS\n",
    "theta_s = [0] * N_POINTS\n",
    "\n",
    "perfect_model = [0, 0, 0]\n",
    "\n",
    "def rad_to_deg(rad):\n",
    "    return rad / 2 / math.pi * 360\n",
    "\n",
    "def sample_motion_model_velocity_n(u_t, positions, dt, sample, a_1, a_2, a_3, a_4, a_5, a_6):\n",
    "    x_s = []\n",
    "    y_s = []\n",
    "    theta_s = []\n",
    "    for position in zip(*positions):\n",
    "        x, y, theta = sample_motion_model_velocity(u_t, position, dt, sample, a_1, a_2, a_3, a_4, a_5, a_6)\n",
    "        x_s.append(x)\n",
    "        y_s.append(y)\n",
    "        theta_s.append(theta)\n",
    "        \n",
    "    return x_s, y_s, theta_s\n",
    "\n",
    "plt.figure(figsize=(8, 8))\n",
    "plt.plot(perfect_model[0], perfect_model[1], 'r.', marker=(3, 0, rad_to_deg(perfect_model[2]) - 90), markersize=10)\n",
    "plt.plot(x_s, y_s, 'k,', alpha=1)\n",
    "for _ in range(N_EPOCH):\n",
    "    x_s, y_s, theta_s = sample_motion_model_velocity_n(u, (x_s, y_s, theta_s), DT, sample, a_1, a_2, a_3, a_4, a_5, a_6)\n",
    "    perfect_model = sample_motion_model_velocity(u, perfect_model, DT, sample, 0, 0, 0, 0, 0, 0)\n",
    "    plt.plot(perfect_model[0], perfect_model[1], 'r.', marker=(3, 0, rad_to_deg(perfect_model[2]) - 90), markersize=10)\n",
    "    plt.plot(x_s, y_s, 'k,', alpha=1)\n",
    "\n",
    "plt.title('2D Position prediction step using Particle Filter')\n",
    "plt.xlabel('x')\n",
    "plt.ylabel('y');"
   ]
  }
 ],
 "metadata": {
  "kernelspec": {
   "display_name": "Python 3",
   "language": "python",
   "name": "python3"
  },
  "language_info": {
   "codemirror_mode": {
    "name": "ipython",
    "version": 3
   },
   "file_extension": ".py",
   "mimetype": "text/x-python",
   "name": "python",
   "nbconvert_exporter": "python",
   "pygments_lexer": "ipython3",
   "version": "3.5.2"
  }
 },
 "nbformat": 4,
 "nbformat_minor": 2
}
